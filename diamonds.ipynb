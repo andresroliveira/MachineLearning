{
 "cells": [
  {
   "cell_type": "markdown",
   "id": "fea3d3a9",
   "metadata": {},
   "source": [
    "## Importanto bibliotecas "
   ]
  },
  {
   "cell_type": "code",
   "execution_count": null,
   "id": "32162b0c",
   "metadata": {
    "ExecuteTime": {
     "start_time": "2022-10-13T21:00:20.465Z"
    }
   },
   "outputs": [],
   "source": [
    "import numpy as np\n",
    "import pandas as pd\n",
    "import tensorflow as tf\n",
    "from tensorflow import keras\n",
    "from tensorflow.keras import layers\n",
    "import matplotlib.pyplot as plt"
   ]
  },
  {
   "cell_type": "markdown",
   "id": "9e9210f5",
   "metadata": {},
   "source": [
    "## Leitura de Dados"
   ]
  },
  {
   "cell_type": "code",
   "execution_count": null,
   "id": "3afa84e6",
   "metadata": {
    "ExecuteTime": {
     "start_time": "2022-10-13T21:00:20.470Z"
    }
   },
   "outputs": [],
   "source": [
    "data = pd.read_csv('data/new_diamonds.csv', dtype=float)\n",
    "data.head()"
   ]
  },
  {
   "cell_type": "code",
   "execution_count": null,
   "id": "bab70517",
   "metadata": {
    "ExecuteTime": {
     "start_time": "2022-10-13T21:00:20.473Z"
    }
   },
   "outputs": [],
   "source": [
    "y_data = data.pop('price')\n",
    "x_data = data\n",
    "\n",
    "x_data = x_data.to_numpy()\n",
    "y_data = y_data.to_numpy()\n",
    "\n",
    "y_data = (y_data - np.mean(y_data)) / np.std(y_data)"
   ]
  },
  {
   "cell_type": "code",
   "execution_count": null,
   "id": "401326e7",
   "metadata": {
    "ExecuteTime": {
     "start_time": "2022-10-13T21:00:20.476Z"
    }
   },
   "outputs": [],
   "source": [
    "mask = np.random.rand(x_data.shape[0]) < 0.8\n",
    "x_train = x_data[mask]\n",
    "y_train = y_data[mask]\n",
    "x_test = x_data[~mask]\n",
    "y_test = y_data[~mask]"
   ]
  },
  {
   "cell_type": "code",
   "execution_count": null,
   "id": "efe73a06",
   "metadata": {
    "ExecuteTime": {
     "start_time": "2022-10-13T21:00:20.480Z"
    }
   },
   "outputs": [],
   "source": [
    "x_train.shape"
   ]
  },
  {
   "cell_type": "markdown",
   "id": "85cb064e",
   "metadata": {},
   "source": [
    "## Definindo o Modelo"
   ]
  },
  {
   "cell_type": "code",
   "execution_count": null,
   "id": "18743422",
   "metadata": {
    "ExecuteTime": {
     "start_time": "2022-10-13T21:00:20.484Z"
    }
   },
   "outputs": [],
   "source": [
    "model = keras.Sequential([\n",
    "    layers.Dense(5, input_shape=(9, )),\n",
    "    layers.Dense(5),\n",
    "    layers.Dense(1),\n",
    "])"
   ]
  },
  {
   "cell_type": "code",
   "execution_count": null,
   "id": "63f9e9b5",
   "metadata": {
    "ExecuteTime": {
     "start_time": "2022-10-13T21:00:20.488Z"
    }
   },
   "outputs": [],
   "source": [
    "model.output_shape"
   ]
  },
  {
   "cell_type": "code",
   "execution_count": null,
   "id": "92a596d4",
   "metadata": {
    "ExecuteTime": {
     "start_time": "2022-10-13T21:00:20.492Z"
    }
   },
   "outputs": [],
   "source": [
    "mse = tf.keras.losses.MeanSquaredError()\n",
    "mape = tf.keras.losses.MeanAbsolutePercentageError()\n",
    "msle = tf.keras.losses.MeanSquaredLogarithmicError()\n",
    "rmse = tf.keras.metrics.RootMeanSquaredError()\n",
    "adam = keras.optimizers.Adam(0.001, clipnorm=1.)\n",
    "sgd = keras.optimizers.SGD(learning_rate=0.001, clipnorm=1.)"
   ]
  },
  {
   "cell_type": "code",
   "execution_count": null,
   "id": "6b95f51f",
   "metadata": {
    "ExecuteTime": {
     "start_time": "2022-10-13T21:00:20.496Z"
    }
   },
   "outputs": [],
   "source": [
    "model.compile(loss=mse, optimizer=sgd, metrics=[msle, rmse])"
   ]
  },
  {
   "cell_type": "code",
   "execution_count": null,
   "id": "661fd628",
   "metadata": {
    "ExecuteTime": {
     "start_time": "2022-10-13T21:00:20.499Z"
    }
   },
   "outputs": [],
   "source": [
    "train = model.fit(x_train, y_train, batch_size=32, epochs=15, verbose=1)"
   ]
  },
  {
   "cell_type": "code",
   "execution_count": null,
   "id": "4614f240",
   "metadata": {
    "ExecuteTime": {
     "start_time": "2022-10-13T21:00:20.502Z"
    },
    "scrolled": true
   },
   "outputs": [],
   "source": [
    "train.history"
   ]
  },
  {
   "cell_type": "code",
   "execution_count": null,
   "id": "b67e4e8e",
   "metadata": {
    "ExecuteTime": {
     "start_time": "2022-10-13T21:00:20.505Z"
    }
   },
   "outputs": [],
   "source": [
    "model.evaluate(x_test, y_test)"
   ]
  },
  {
   "cell_type": "code",
   "execution_count": null,
   "id": "a98b0e12",
   "metadata": {},
   "outputs": [],
   "source": []
  }
 ],
 "metadata": {
  "kernelspec": {
   "display_name": "Python 3 (ipykernel)",
   "language": "python",
   "name": "python3"
  },
  "language_info": {
   "codemirror_mode": {
    "name": "ipython",
    "version": 3
   },
   "file_extension": ".py",
   "mimetype": "text/x-python",
   "name": "python",
   "nbconvert_exporter": "python",
   "pygments_lexer": "ipython3",
   "version": "3.10.6"
  },
  "vscode": {
   "interpreter": {
    "hash": "f8f52f5306e4a2f8243b577a54798a5c12708953e8bbf3d9f026755205860798"
   }
  }
 },
 "nbformat": 4,
 "nbformat_minor": 5
}
